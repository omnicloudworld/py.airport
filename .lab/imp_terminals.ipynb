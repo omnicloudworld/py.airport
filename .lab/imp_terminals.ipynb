{
 "cells": [
  {
   "cell_type": "code",
   "execution_count": 1,
   "metadata": {},
   "outputs": [],
   "source": [
    "from omnicloud.airport.terminals import Dict"
   ]
  },
  {
   "cell_type": "code",
   "execution_count": 5,
   "metadata": {},
   "outputs": [
    {
     "data": {
      "text/plain": [
       "[omnicloud.airport.terminals._dict._local.json.LocalJSON,\n",
       " omnicloud.airport.terminals._dict._local.yaml.LocalYAML]"
      ]
     },
     "execution_count": 5,
     "metadata": {},
     "output_type": "execute_result"
    }
   ],
   "source": [
    "Dict.Gate.__subclasses__()"
   ]
  },
  {
   "cell_type": "code",
   "execution_count": 2,
   "metadata": {},
   "outputs": [],
   "source": [
    "d1 = {\n",
    "    'int': 9,\n",
    "    'str': 'sdf',\n",
    "    'list': ['ee', 'tt'],\n",
    "    'obj': {'a': 'aaa', 'b': 'bbb'}\n",
    "}\n",
    "Dict(d1).departure('LocalYAML::/tmp', 'x.yaml')"
   ]
  },
  {
   "cell_type": "code",
   "execution_count": 3,
   "metadata": {},
   "outputs": [
    {
     "data": {
      "text/plain": [
       "{'int': 9, 'list': ['ee', 'tt'], 'obj': {'a': 'aaa', 'b': 'bbb'}, 'str': 'sdf'}"
      ]
     },
     "execution_count": 3,
     "metadata": {},
     "output_type": "execute_result"
    }
   ],
   "source": [
    "d2 = Dict().arriving('LocalYAML::/tmp', 'x.yaml')\n",
    "d2"
   ]
  }
 ],
 "metadata": {
  "kernelspec": {
   "display_name": "omnicloud-airport-bCAGlJ_p-py3.10",
   "language": "python",
   "name": "python3"
  },
  "language_info": {
   "codemirror_mode": {
    "name": "ipython",
    "version": 3
   },
   "file_extension": ".py",
   "mimetype": "text/x-python",
   "name": "python",
   "nbconvert_exporter": "python",
   "pygments_lexer": "ipython3",
   "version": "3.11.3"
  },
  "orig_nbformat": 4
 },
 "nbformat": 4,
 "nbformat_minor": 2
}
