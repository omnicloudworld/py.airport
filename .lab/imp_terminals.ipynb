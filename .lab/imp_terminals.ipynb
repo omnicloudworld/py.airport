{
 "cells": [
  {
   "cell_type": "code",
   "execution_count": null,
   "metadata": {},
   "outputs": [],
   "source": [
    "from omnicloud.airport.terminals import Dict"
   ]
  },
  {
   "cell_type": "code",
   "execution_count": null,
   "metadata": {},
   "outputs": [],
   "source": [
    "d1 = {}\n",
    "Dict(d1).departure('LocalJSON::/tmp', 'x.json')"
   ]
  },
  {
   "cell_type": "code",
   "execution_count": 1,
   "metadata": {},
   "outputs": [],
   "source": [
    "from os import environ as env\n",
    "\n",
    "env['OMNICLOUD_AIRPORT_DEVPATH'] = '/tmp/testws'\n",
    "\n",
    "from omnicloud.airport.terminals import Dict, infobox"
   ]
  },
  {
   "cell_type": "code",
   "execution_count": 2,
   "metadata": {},
   "outputs": [
    {
     "data": {
      "text/plain": [
       "{'Dict': {'gates': {},\n",
       "  'description': 'It as an omnicloud.airport\\'s Terminal for a main python object \"dict\".'}}"
      ]
     },
     "execution_count": 2,
     "metadata": {},
     "output_type": "execute_result"
    }
   ],
   "source": [
    "infobox"
   ]
  },
  {
   "cell_type": "code",
   "execution_count": 3,
   "metadata": {},
   "outputs": [],
   "source": [
    "d1 = {}\n",
    "Dict(d1).departure('RocalJSON::/tmp', 'x2.json')"
   ]
  },
  {
   "cell_type": "code",
   "execution_count": null,
   "metadata": {},
   "outputs": [],
   "source": [
    "from google.auth import api_key as x\n",
    "x.__name__.rsplit('.', 1)[0]"
   ]
  }
 ],
 "metadata": {
  "kernelspec": {
   "display_name": "omnicloud-airport-bCAGlJ_p-py3.10",
   "language": "python",
   "name": "python3"
  },
  "language_info": {
   "codemirror_mode": {
    "name": "ipython",
    "version": 3
   },
   "file_extension": ".py",
   "mimetype": "text/x-python",
   "name": "python",
   "nbconvert_exporter": "python",
   "pygments_lexer": "ipython3",
   "version": "3.10.5"
  },
  "orig_nbformat": 4
 },
 "nbformat": 4,
 "nbformat_minor": 2
}
