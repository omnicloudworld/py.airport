{
 "cells": [
  {
   "cell_type": "code",
   "execution_count": 4,
   "metadata": {},
   "outputs": [],
   "source": [
    "\n",
    "x = \"ensure_ascii=b64:RmFsc2U==||encoding=utf-16||ascii=b64:RmFsc2U=||ascii2=b64:RmFsc2U==\""
   ]
  },
  {
   "cell_type": "code",
   "execution_count": 21,
   "metadata": {},
   "outputs": [
    {
     "data": {
      "text/plain": [
       "False"
      ]
     },
     "execution_count": 21,
     "metadata": {},
     "output_type": "execute_result"
    }
   ],
   "source": [
    "import re\n",
    "\n",
    "x = \"ensure_ascii=b64:RmFsc2U==||encoding=utf-16||ascii=b64:RmFsc2U=||ascii2=b64:RmFsc2U==\"\n",
    "\n",
    "def count_cleaned_b64(src: str) -> int:\n",
    "    return len(re.sub(r'[=]*$', '', src).split('='))\n",
    "\n",
    "all([count_cleaned_b64(a) > 1 for a in x.split(\"||\")])"
   ]
  },
  {
   "cell_type": "code",
   "execution_count": 16,
   "metadata": {},
   "outputs": [
    {
     "data": {
      "text/plain": [
       "'ascii2=b64:RmFsc2U'"
      ]
     },
     "execution_count": 16,
     "metadata": {},
     "output_type": "execute_result"
    }
   ],
   "source": [
    "import re\n",
    "re.sub(r\"[=]*$\", \"\", \"ascii2=b64:RmFsc2U==\")"
   ]
  },
  {
   "cell_type": "code",
   "execution_count": 17,
   "metadata": {},
   "outputs": [
    {
     "data": {
      "text/plain": [
       "list"
      ]
     },
     "execution_count": 17,
     "metadata": {},
     "output_type": "execute_result"
    }
   ],
   "source": [
    "type('s=s'.split('='))"
   ]
  }
 ],
 "metadata": {
  "kernelspec": {
   "display_name": "omnicloud-airport-bCAGlJ_p-py3.10",
   "language": "python",
   "name": "python3"
  },
  "language_info": {
   "codemirror_mode": {
    "name": "ipython",
    "version": 3
   },
   "file_extension": ".py",
   "mimetype": "text/x-python",
   "name": "python",
   "nbconvert_exporter": "python",
   "pygments_lexer": "ipython3",
   "version": "3.10.5"
  },
  "orig_nbformat": 4
 },
 "nbformat": 4,
 "nbformat_minor": 2
}
